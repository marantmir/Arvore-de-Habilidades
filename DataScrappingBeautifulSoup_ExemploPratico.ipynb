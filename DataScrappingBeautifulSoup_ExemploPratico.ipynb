{
  "nbformat": 4,
  "nbformat_minor": 0,
  "metadata": {
    "colab": {
      "name": "DataScrappingBeautifulSoup-ExemploPratico.ipynb",
      "provenance": [],
      "authorship_tag": "ABX9TyOGt6zzXSJ/DzKTDM3tj5DC",
      "include_colab_link": true
    },
    "kernelspec": {
      "name": "python3",
      "display_name": "Python 3"
    },
    "language_info": {
      "name": "python"
    }
  },
  "cells": [
    {
      "cell_type": "markdown",
      "metadata": {
        "id": "view-in-github",
        "colab_type": "text"
      },
      "source": [
        "<a href=\"https://colab.research.google.com/github/marantmir/Arvore-de-Habilidades/blob/master/DataScrappingBeautifulSoup_ExemploPratico.ipynb\" target=\"_parent\"><img src=\"https://colab.research.google.com/assets/colab-badge.svg\" alt=\"Open In Colab\"/></a>"
      ]
    },
    {
      "cell_type": "code",
      "execution_count": 1,
      "metadata": {
        "id": "jY_Y3CDkcC2-"
      },
      "outputs": [],
      "source": [
        "# Importando pacotes\n",
        "\n",
        "from bs4 import BeautifulSoup\n",
        "import requests"
      ]
    },
    {
      "cell_type": "code",
      "source": [
        "# Encontrando o site\n",
        "\n",
        "link = 'https://www.rottentomatoes.com/top/bestofrt/?year=2019'"
      ],
      "metadata": {
        "id": "gOHQHLC0dCDE"
      },
      "execution_count": 2,
      "outputs": []
    },
    {
      "cell_type": "code",
      "source": [
        "## Criando o Request\n",
        "\n",
        "### Função para coletar o link e método 'text' para extrair o código fonte html\n",
        "source = requests.get(link).text\n",
        "\n",
        "### Aplicando a função que permite aplicarmos códigos de busca no código HTML\n",
        "soup = BeautifulSoup(source, 'html.parser')"
      ],
      "metadata": {
        "id": "5ALzKmrsdY-5"
      },
      "execution_count": 5,
      "outputs": []
    },
    {
      "cell_type": "code",
      "source": [
        "# Explorando o site\n",
        "\n",
        "## Coletando o primeiro conteúdo com a TAG \"h2\"\n",
        "\n",
        "soup.find('h2')"
      ],
      "metadata": {
        "colab": {
          "base_uri": "https://localhost:8080/"
        },
        "id": "p0tZQ-NkhzCL",
        "outputId": "28fad51f-eace-41e5-dc2e-10f05db66989"
      },
      "execution_count": 6,
      "outputs": [
        {
          "output_type": "execute_result",
          "data": {
            "text/plain": [
              "<h2 class=\"title\">Movies in Theaters</h2>"
            ]
          },
          "metadata": {},
          "execution_count": 6
        }
      ]
    },
    {
      "cell_type": "code",
      "source": [
        "## Coletando todos os conteúdos com a TAG \"h2\"\n",
        "\n",
        "soup.find_all('h2')"
      ],
      "metadata": {
        "colab": {
          "base_uri": "https://localhost:8080/"
        },
        "id": "FBpvtJBOkw_Z",
        "outputId": "bf10d0b5-4b0f-4965-a871-f4ac0636b2f8"
      },
      "execution_count": 7,
      "outputs": [
        {
          "output_type": "execute_result",
          "data": {
            "text/plain": [
              "[<h2 class=\"title\">Movies in Theaters</h2>,\n",
              " <h2 class=\"title\">On Dvd &amp; Streaming</h2>,\n",
              " <h2 class=\"title\">More</h2>,\n",
              " <h2 class=\"title\">Certified Fresh Picks</h2>,\n",
              " <h2 class=\"title\">New TV Tonight</h2>,\n",
              " <h2 class=\"title\">Most Popular TV on RT</h2>,\n",
              " <h2 class=\"title\">More</h2>,\n",
              " <h2 class=\"title\" style=\"margin-top: 20px\">Episodic Reviews</h2>,\n",
              " <h2 class=\"title\">Certified Fresh Pick</h2>,\n",
              " <h2 class=\"title\">Columns</h2>,\n",
              " <h2 class=\"title\">Best and Worst</h2>,\n",
              " <h2 class=\"title\">Guides</h2>,\n",
              " <h2 class=\"title\">RT News</h2>,\n",
              " <h2 class=\"panel-heading\">Top 100 Movies of 2019</h2>,\n",
              " <h2 class=\"panel-heading\">Today's Top Rated Movies</h2>,\n",
              " <h2><span class=\"glyphicon glyphicon-envelope\"></span>  JOIN THE NEWSLETTER</h2>,\n",
              " <h2>Follow Us</h2>]"
            ]
          },
          "metadata": {},
          "execution_count": 7
        }
      ]
    },
    {
      "cell_type": "code",
      "source": [
        "## Coletando o título da página\n",
        "\n",
        "### Note que também passamos como parâmetro \"[0]\" pois o conteúdo é o primeiro da lista encontrada e pegamos apenas o texto"
      ],
      "metadata": {
        "id": "XELbFz0LlHi7"
      },
      "execution_count": null,
      "outputs": []
    }
  ]
}